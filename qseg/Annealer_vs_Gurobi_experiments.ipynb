{
  "cells": [
    {
      "cell_type": "markdown",
      "metadata": {
        "id": "FIIH27AZERXD"
      },
      "source": [
        "#### Import dependencies"
      ]
    },
    {
      "cell_type": "code",
      "execution_count": null,
      "metadata": {
        "id": "ZTxSQ-blWmvp"
      },
      "outputs": [],
      "source": [
        "from warnings import simplefilter\n",
        "simplefilter(action='ignore', category=FutureWarning)"
      ]
    },
    {
      "cell_type": "code",
      "source": [
        "# Importing functions from the modules in the qseg package\n",
        "from qseg.graph_utils import image_to_grid_graph, draw, draw_graph_cut_edges\n",
        "from qseg.dwave_utils import dwave_solver, annealer_solver\n",
        "from qseg.utils import decode_binary_string\n",
        "\n",
        "# Additional necessary imports\n",
        "import numpy as np\n",
        "import matplotlib.pyplot as plt\n",
        "import networkx as nx\n",
        "from qiskit_optimization.applications import Maxcut\n",
        "import dimod\n",
        "from dwave.system.samplers import DWaveSampler\n",
        "from dwave.system.composites import EmbeddingComposite"
      ],
      "metadata": {
        "id": "s8Ki3xq_-ANR"
      },
      "execution_count": null,
      "outputs": []
    },
    {
      "cell_type": "code",
      "source": [
        "import gurobipy as gp\n",
        "from gurobipy import GRB"
      ],
      "metadata": {
        "id": "3K3b2ebI7CG8"
      },
      "execution_count": null,
      "outputs": []
    },
    {
      "cell_type": "code",
      "source": [],
      "metadata": {
        "id": "pl4tm59l7EnN"
      },
      "execution_count": null,
      "outputs": []
    },
    {
      "cell_type": "markdown",
      "metadata": {
        "id": "9oXP6la6icxT"
      },
      "source": [
        "#### Generate Problem Instance"
      ]
    },
    {
      "cell_type": "code",
      "execution_count": null,
      "metadata": {
        "id": "71tG-fpjWiif"
      },
      "outputs": [],
      "source": [
        "def get_nx_e_list(h, w):\n",
        "    nx_elist = []\n",
        "    for i in range(h*w):\n",
        "        x, y = i//w, i%w\n",
        "        if x > 0:\n",
        "            nx_elist.append(((x,y),(x-1,y)))\n",
        "        if y > 0:\n",
        "            nx_elist.append(((x,y),(x,y-1)))\n",
        "    return nx_elist"
      ]
    },
    {
      "cell_type": "code",
      "execution_count": null,
      "metadata": {
        "id": "JIEOQfGgWiig"
      },
      "outputs": [],
      "source": [
        "def generate_problem_instance(height,width):\n",
        "    nx_elist = get_nx_e_list(height,width)\n",
        "    G = nx.grid_2d_graph(height,width)\n",
        "    edge_weights = np.random.uniform(low=-1, high=1, size=len(nx_elist))\n",
        "    G.add_weighted_edges_from([(node[0],node[1], w) for node,w in zip(nx_elist, edge_weights)])\n",
        "    return G"
      ]
    },
    {
      "cell_type": "code",
      "execution_count": null,
      "metadata": {
        "id": "ofVMOiCgpsit"
      },
      "outputs": [],
      "source": []
    },
    {
      "cell_type": "markdown",
      "metadata": {
        "id": "LdGwCr5yng2c"
      },
      "source": [
        "#### Gurobi QUBO solver"
      ]
    },
    {
      "cell_type": "code",
      "execution_count": null,
      "metadata": {
        "id": "LdiScVO7n0TV"
      },
      "outputs": [],
      "source": [
        "def gurobi_qubo_solver(G):\n",
        "  w = -1 * nx.adjacency_matrix(G).todense()\n",
        "  max_cut = Maxcut(w)\n",
        "  qp = max_cut.to_quadratic_program()\n",
        "  linear = qp.objective.linear.coefficients.toarray(order=None, out=None)\n",
        "  quadratic = qp.objective.quadratic.coefficients.toarray(order=None, out=None)\n",
        "\n",
        "  linear = {int(idx):-round(value,2) for idx,value in enumerate(linear[0])}\n",
        "  quadratic = {(int(iy),int(ix)):-quadratic[iy, ix] for iy, ix in np.ndindex(quadratic.shape) if iy<ix and abs(quadratic[iy, ix])!=0}\n",
        "\n",
        "  qubo_matrix = np.zeros([len(linear),len(linear)])\n",
        "  for key,value in linear.items():\n",
        "    qubo_matrix[int(key),int(key)] = value\n",
        "  for key,value in quadratic.items():\n",
        "    qubo_matrix[int(key[0]),int(key[1])] = value/2\n",
        "    qubo_matrix[int(key[1]),int(key[0])] = value/2\n",
        "\n",
        "  n = qubo_matrix.shape[0]\n",
        "  model = gp.Model()\n",
        "  x = model.addVars(n, vtype=GRB.BINARY)\n",
        "  obj_expr = gp.quicksum(qubo_matrix[i, j] * x[i] * x[j] for i in range(n) for j in range(n))\n",
        "  model.setObjective(obj_expr)\n",
        "  model.setParam('OutputFlag', 0)\n",
        "  model.optimize()\n",
        "\n",
        "  if model.status == GRB.OPTIMAL:\n",
        "    solution = [int(x[i].X) for i in range(n)]\n",
        "    binary_string = ''.join(str(bit) for bit in solution)\n",
        "    return binary_string, model.objVal\n",
        "  else:\n",
        "    return None, None"
      ]
    },
    {
      "cell_type": "code",
      "execution_count": null,
      "metadata": {
        "id": "R6nEL8HBXRxf"
      },
      "outputs": [],
      "source": []
    },
    {
      "cell_type": "markdown",
      "metadata": {
        "id": "3TY83OitQNIm"
      },
      "source": [
        "#### Experimental settings"
      ]
    },
    {
      "cell_type": "code",
      "execution_count": null,
      "metadata": {
        "id": "pYoUXlnBWiio"
      },
      "outputs": [],
      "source": [
        "# seeds = [111,222,333,444,555]\n",
        "\n",
        "seed = 111\n",
        "\n",
        "dwave_annealer_solver = True#@param {type:\"boolean\"}\n",
        "gurobipy_qubo_solver = True#@param {type:\"boolean\"}\n",
        "\n",
        "solver_flags = ''.join(map(str,map(int,[dwave_annealer_solver, gurobipy_qubo_solver])))\n",
        "\n",
        "\n",
        "table_contents = []\n",
        "\n",
        "heights = np.arange(2, 51).tolist()\n",
        "report_filename = 'imgSeg_paper_report_' + solver_flags + '_' +  str(seed) + '.txt'\n",
        "qputimes_filename = 'imgSeg_paper_qputimes_' + solver_flags + '_' +  str(seed) + '.csv'\n",
        "\n",
        "qpu_output_path = os.path.join('results', f'{seed}')\n",
        "\n"
      ]
    },
    {
      "cell_type": "code",
      "source": [
        "# Create the directory if it doesn't exist\n",
        "os.makedirs(qpu_output_path, exist_ok=True)\n",
        "\n",
        "fieldnames = ['qpu_sampling_time', 'qpu_anneal_time_per_sample', 'qpu_readout_time_per_sample', 'qpu_access_time', 'qpu_access_overhead_time', 'qpu_programming_time', 'qpu_delay_time_per_sample', 'post_processing_overhead_time', 'total_post_processing_time', 'problem_formulation_time', 'connection_time', 'embedding_time', 'response_time', 'sample_fetch_time', 'Height', 'Width']\n",
        "if dwave_annealer_solver and not os.path.exists(qputimes_filename):\n",
        "  with open(qputimes_filename, mode='w', newline='') as qputime_file:\n",
        "        writer = csv.DictWriter(qputime_file, fieldnames=fieldnames)\n",
        "        # Write the header row\n",
        "        writer.writeheader()"
      ],
      "metadata": {
        "id": "VujR8cgk8ivP"
      },
      "execution_count": null,
      "outputs": []
    },
    {
      "cell_type": "markdown",
      "metadata": {
        "id": "eR_WVGyZQQIE"
      },
      "source": [
        "#### Executions"
      ]
    },
    {
      "cell_type": "code",
      "execution_count": null,
      "metadata": {
        "id": "d65hyU76Wiip"
      },
      "outputs": [],
      "source": [
        "for height in heights:\n",
        "  for width in [height]:\n",
        "    print(f'seed: {seed}, height: {height}, width: {width}, n: {height*width}')\n",
        "    np.random.seed(seed=seed)\n",
        "    G = generate_problem_instance_v3(height, width)\n",
        "\n",
        "    start_time = time.time()\n",
        "    if dwave_annealer_solver:\n",
        "      sample_set_df, info_dict = annealer_solver(G, n_samples = n_samples)\n",
        "      dwave_annealer_tte = (time.time() - start_time)\n",
        "      print('dwave_annealer_tte',dwave_annealer_tte)\n",
        "      dwave_annealer_solution_first = ''.join(sample_set_df.iloc[0][:-3].astype(int).astype(str))\n",
        "      dwave_annealer_solution_lowest = ''.join(sample_set_df.sort_values(by=['num_occurrences', 'energy'], ascending=[False, True]).iloc[0][:-3].astype(int).astype(str))\n",
        "\n",
        "      dwave_annealer_value_first = sample_set_df.iloc[0][-2:-1][0]\n",
        "      dwave_annealer_value_lowest = sample_set_df.sort_values(by=['num_occurrences', 'energy'], ascending=[False, True]).iloc[0][-2:-1][0]\n",
        "\n",
        "      print('dwave_annealer_value_lowest_energy',dwave_annealer_value_first)\n",
        "      print('dwave_annealer_value_most_occurred',dwave_annealer_value_lowest)\n",
        "\n",
        "      print(\"ANNEALER DONE!\")\n",
        "      qputime_dic = info_dict.copy()\n",
        "      qputime_dic['Height'] = height\n",
        "      qputime_dic['Width'] = width\n",
        "      print('qputime_dic',qputime_dic)\n",
        "\n",
        "      sample_set_df.to_csv(os.path.join(qpu_output_path, f'{height}_{width}.csv'), index=False)\n",
        "\n",
        "      with open(qputimes_filename, mode='a', newline='') as qpu_times_file:\n",
        "        writer = csv.DictWriter(qpu_times_file, fieldnames=qputime_dic.keys())\n",
        "        writer.writerow(qputime_dic)\n",
        "    else:\n",
        "      dwave_annealer_solution, dwave_annealer_value = None, None\n",
        "\n",
        "\n",
        "    start_time = time.time()\n",
        "    if gurobipy_qubo_solver:\n",
        "      try:\n",
        "        gurobi_qubo_solution, gurobi_qubo_value = gurobi_qubo_solver(G)\n",
        "        gurobi_qubo_tte = (time.time() - start_time)\n",
        "        print('gurobi_qubo_value',gurobi_qubo_value)\n",
        "        print('gurobi_qubo_tte:',gurobi_qubo_tte)\n",
        "        print(\"GUROBI QUBO DONE!\")\n",
        "      except Exception as e:\n",
        "        print(\"Gurobi QUBO execution is unsuccessful due to \"+ str(e))\n",
        "        gurobi_qubo_solution, gurobi_qubo_value = None, None\n",
        "    else:\n",
        "      gurobi_qubo_solution, gurobi_qubo_value = None, None\n",
        "\n",
        "\n",
        "    row = []\n",
        "\n",
        "    row.append(int(G.number_of_nodes()))\n",
        "    row.append(int(height))\n",
        "    row.append(int(width))\n",
        "\n",
        "    if dwave_annealer_solver:\n",
        "      row.append(''.join(map(str, map(int, (dwave_annealer_solution_first)))))\n",
        "      row.append(np.round(dwave_annealer_value_first,4))\n",
        "      row.append(''.join(map(str, map(int, (dwave_annealer_solution_lowest)))))\n",
        "      row.append(np.round(dwave_annealer_value_lowest,4))\n",
        "      row.append(np.round(dwave_annealer_tte,4))\n",
        "\n",
        "    if gurobipy_qubo_solver:\n",
        "      if gurobi_qubo_solution:\n",
        "        row.append(''.join(map(str, map(int, (gurobi_qubo_solution)))))\n",
        "      else:\n",
        "        row.append(''.join(['0']*G.number_of_nodes()))\n",
        "      if gurobi_qubo_value:\n",
        "        row.append(np.round(gurobi_qubo_value,4))\n",
        "      else:\n",
        "        row.append(0)\n",
        "      if gurobi_qubo_tte:\n",
        "        row.append(np.round(gurobi_qubo_tte,4))\n",
        "      else:\n",
        "        row.append(0)\n",
        "\n",
        "    report_file_obj = open(os.path.join(report_filename),'a+')\n",
        "    report_file_obj.write('__'.join(map(str,row))+'\\n')\n",
        "    report_file_obj.close()\n",
        "    table_contents.append(row)\n",
        "    print('\\n')"
      ]
    }
  ],
  "metadata": {
    "colab": {
      "gpuType": "T4",
      "provenance": []
    },
    "kernelspec": {
      "display_name": "Python 3",
      "name": "python3"
    },
    "language_info": {
      "codemirror_mode": {
        "name": "ipython",
        "version": 3
      },
      "file_extension": ".py",
      "mimetype": "text/x-python",
      "name": "python",
      "nbconvert_exporter": "python",
      "pygments_lexer": "ipython3",
      "version": "3.9.11"
    }
  },
  "nbformat": 4,
  "nbformat_minor": 0
}